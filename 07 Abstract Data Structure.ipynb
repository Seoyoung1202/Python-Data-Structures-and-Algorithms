{
 "cells": [
  {
   "cell_type": "markdown",
   "metadata": {},
   "source": [
    "## 07 추상 데이터 타입 "
   ]
  },
  {
   "cell_type": "markdown",
   "metadata": {},
   "source": [
    "추상 데이터 타입 abstract data type (ADT): 유사한 동작을 가진 자료구조의 클래스에 대한 수학적 모델\n",
    "\n",
    "자료구조 \n",
    "- 연속 방식 continuation: 배열 기반\n",
    "    - 단일 메모리 슬래브 slab 구성: 문자열, 리스트, 튜플, 딕셔너리 등\n",
    "- 연결 방식 link: 포인터 기반\n",
    "    - 메모리 chunk"
   ]
  },
  {
   "cell_type": "markdown",
   "metadata": {},
   "source": [
    "### 스택 Stack"
   ]
  },
  {
   "cell_type": "markdown",
   "metadata": {},
   "source": [
    "스택: 배열 끝에서만 데이터를 접근할 수 있는 선형 자료구조\n",
    "- 배열 인덱스 접근이 제한\n",
    "- 후입선출 LIFO(last in, first out) 구조\n",
    "- ex) 책상에 쌓인 책/싱크대에 쌓인 접시\n",
    "- 각 동작의 시간복잡도는 O(1)"
   ]
  },
  {
   "cell_type": "markdown",
   "metadata": {},
   "source": [
    "- push\n",
    "- pop\n",
    "- top/peek\n",
    "- empty\n",
    "- size"
   ]
  },
  {
   "cell_type": "markdown",
   "metadata": {},
   "source": [
    "Python에서는 list의 append(), pop()으로 스택을 구현"
   ]
  },
  {
   "cell_type": "code",
   "execution_count": 2,
   "metadata": {},
   "outputs": [
    {
     "name": "stdout",
     "output_type": "stream",
     "text": [
      "스택이 비었나요? True\n",
      "스택에 숫자 0~9를 추가합니다.\n",
      "스택 크기: 10\n",
      "peek: 9\n",
      "pop: 9\n",
      "peek: 8\n",
      "스택이 비었나요? False\n",
      "[0, 1, 2, 3, 4, 5, 6, 7, 8]\n"
     ]
    }
   ],
   "source": [
    "# Python으로 stack 구현\n",
    "\n",
    "class Stack(object):\n",
    "    def __init__(self):\n",
    "        self.items = []\n",
    "\n",
    "    def isEmpty(self):\n",
    "        return not bool(self.items)\n",
    "\n",
    "    def push(self, value):\n",
    "        self.items.append(value)\n",
    "\n",
    "    def pop(self):\n",
    "        value = self.items.pop()\n",
    "        if value is not None:\n",
    "            return value\n",
    "        else:\n",
    "            print(\"Stack is empty.\")\n",
    "\n",
    "    def size(self):\n",
    "        return len(self.items)\n",
    "\n",
    "    def peek(self):\n",
    "        if self.items:\n",
    "            return self.items[-1]\n",
    "        else:\n",
    "            print(\"Stack is empty.\")\n",
    "\n",
    "    def __repr__(self):\n",
    "        return repr(self.items)\n",
    "\n",
    "\n",
    "if __name__ == \"__main__\":\n",
    "    stack = Stack()\n",
    "    print(\"스택이 비었나요? {0}\".format(stack.isEmpty()))\n",
    "    print(\"스택에 숫자 0~9를 추가합니다.\")\n",
    "    for i in range(10):\n",
    "        stack.push(i)\n",
    "    print(\"스택 크기: {0}\".format(stack.size()))\n",
    "    print(\"peek: {0}\".format(stack.peek()))\n",
    "    print(\"pop: {0}\".format(stack.pop()))\n",
    "    print(\"peek: {0}\".format(stack.peek()))\n",
    "    print(\"스택이 비었나요? {0}\".format(stack.isEmpty()))\n",
    "    print(stack)"
   ]
  },
  {
   "cell_type": "code",
   "execution_count": 4,
   "metadata": {},
   "outputs": [
    {
     "name": "stdout",
     "output_type": "stream",
     "text": [
      "스택이 비었나요? True\n",
      "스택에 숫자 0~9를 추가합니다.\n",
      "9 8 7 6 5 4 3 2 1 0 \n",
      "스택 크기: 10\n",
      "peek: 9\n",
      "pop: 9\n",
      "peek: 8\n",
      "스택이 비었나요? False\n",
      "8 7 6 5 4 3 2 1 0 \n"
     ]
    }
   ],
   "source": [
    "## stack with node\n",
    "# 노드의 컨테이너로 스택을 구현\n",
    "\n",
    "class Node(object):\n",
    "    def __init__(self, value=None, pointer=None): # 포인터: 변수의 주소값을 저장\n",
    "        self.value = value\n",
    "        self.pointer = pointer\n",
    "\n",
    "\n",
    "class Stack(object):\n",
    "    def __init__(self):\n",
    "        self.head = None\n",
    "        self.count = 0\n",
    "\n",
    "    def isEmpty(self):\n",
    "        return not bool(self.head)\n",
    "\n",
    "    def push(self, item):\n",
    "        self.head = Node(item, self.head)\n",
    "        self.count += 1\n",
    "\n",
    "    def pop(self):\n",
    "        if self.count > 0 and self.head:\n",
    "            node = self.head\n",
    "            self.head = node.pointer\n",
    "            self.count -= 1\n",
    "            return node.value\n",
    "        else:\n",
    "            print(\"Stack is empty.\")\n",
    "\n",
    "    def peek(self):\n",
    "        if self.count > 0 and self.head:\n",
    "            return self.head.value\n",
    "        else:\n",
    "            print(\"Stack is empty.\")\n",
    "\n",
    "    def size(self):\n",
    "        # node = self.head\n",
    "        # count = 0\n",
    "        # while node:\n",
    "        #     count += 1\n",
    "        #     node = node.pointer\n",
    "        # return count\n",
    "        return self.count\n",
    "\n",
    "    def _printList(self):\n",
    "        node = self.head\n",
    "        while node:\n",
    "            print(node.value, end=\" \")\n",
    "            node = node.pointer\n",
    "        print()\n",
    "\n",
    "\n",
    "if __name__ == \"__main__\":\n",
    "    stack = Stack()\n",
    "    print(\"스택이 비었나요? {0}\".format(stack.isEmpty()))\n",
    "    print(\"스택에 숫자 0~9를 추가합니다.\")\n",
    "    for i in range(10):\n",
    "        stack.push(i)\n",
    "    stack._printList()\n",
    "    print(\"스택 크기: {0}\".format(stack.size()))\n",
    "    print(\"peek: {0}\".format(stack.peek()))\n",
    "    print(\"pop: {0}\".format(stack.pop()))\n",
    "    print(\"peek: {0}\".format(stack.peek()))\n",
    "    print(\"스택이 비었나요? {0}\".format(stack.isEmpty()))\n",
    "    stack._printList()"
   ]
  },
  {
   "cell_type": "markdown",
   "metadata": {},
   "source": [
    "> Stack은 DFS(깊이 우선 탐색)에서 유용하게 사용됨"
   ]
  },
  {
   "cell_type": "markdown",
   "metadata": {},
   "source": [
    "### 큐 queue"
   ]
  },
  {
   "cell_type": "markdown",
   "metadata": {},
   "source": [
    "큐: 항목이 들어온 순서대로 접근 가능\n",
    "- 먼저 들어온 데이터가 먼저 나가는 선입선출 FIFO(first in, first out) 구조\n",
    "- 배열의 인덱스 접근이 제한\n",
    "- ex) 롤러코스터 대기줄\n",
    "- 각 동작의 시간복잡도는 O(1)"
   ]
  },
  {
   "cell_type": "markdown",
   "metadata": {},
   "source": [
    "- enqueue\n",
    "- dequeue\n",
    "- peek/front\n",
    "- empty\n",
    "- size"
   ]
  },
  {
   "cell_type": "code",
   "execution_count": 5,
   "metadata": {},
   "outputs": [
    {
     "name": "stdout",
     "output_type": "stream",
     "text": [
      "큐가 비었나요? True\n",
      "큐에 숫자 0~9를 추가합니다.\n",
      "큐 크기: 10\n",
      "peek: 0\n",
      "dequeue: 0\n",
      "peek: 1\n",
      "큐가 비었나요? False\n",
      "[9, 8, 7, 6, 5, 4, 3, 2, 1]\n"
     ]
    }
   ],
   "source": [
    "# Python으로 queue 구현\n",
    "\n",
    "class Queue(object):\n",
    "    def __init__(self):\n",
    "        self.items = []\n",
    "\n",
    "    def isEmpty(self):\n",
    "        return not bool(self.items)\n",
    "\n",
    "    def enqueue(self, item):\n",
    "        self.items.insert(0, item)\n",
    "\n",
    "    def dequeue(self):\n",
    "        value = self.items.pop()\n",
    "        if value is not None:\n",
    "            return value\n",
    "        else:\n",
    "            print(\"Queue is empty.\")\n",
    "\n",
    "    def size(self):\n",
    "        return len(self.items)\n",
    "\n",
    "    def peek(self):\n",
    "        if self.items:\n",
    "            return self.items[-1]\n",
    "        else:\n",
    "            print(\"Queue is empty.\")\n",
    "\n",
    "    def __repr__(self):\n",
    "        return repr(self.items)\n",
    "\n",
    "\n",
    "if __name__ == \"__main__\":\n",
    "    queue = Queue()\n",
    "    print(\"큐가 비었나요? {0}\".format(queue.isEmpty()))\n",
    "    print(\"큐에 숫자 0~9를 추가합니다.\")\n",
    "    for i in range(10):\n",
    "        queue.enqueue(i)\n",
    "    print(\"큐 크기: {0}\".format(queue.size()))\n",
    "    print(\"peek: {0}\".format(queue.peek()))\n",
    "    print(\"dequeue: {0}\".format(queue.dequeue()))\n",
    "    print(\"peek: {0}\".format(queue.peek()))\n",
    "    print(\"큐가 비었나요? {0}\".format(queue.isEmpty()))\n",
    "    print(queue)"
   ]
  },
  {
   "cell_type": "code",
   "execution_count": null,
   "metadata": {},
   "outputs": [],
   "source": [
    "## queue from two stacks\n",
    "# 두 개의 stack으로 효율적인 queue 작성\n",
    "\n",
    "class Queue(object):\n",
    "    def __init__(self):\n",
    "        self.in_stack = []\n",
    "        self.out_stack = []\n",
    "\n",
    "    def _transfer(self):\n",
    "        while self.in_stack:\n",
    "            self.out_stack.append(self.in_stack.pop())\n",
    "\n",
    "    def enqueue(self, item):\n",
    "        return self.in_stack.append(item)\n",
    "\n",
    "    def dequeue(self):\n",
    "        if not self.out_stack:\n",
    "            self._transfer()\n",
    "        if self.out_stack:\n",
    "            return self.out_stack.pop()\n",
    "        else:\n",
    "            print(\"Queue is empty!\")\n",
    "\n",
    "    def size(self):\n",
    "        return len(self.in_stack) + len(self.out_stack)\n",
    "\n",
    "    def peek(self):\n",
    "        if not self.out_stack:\n",
    "            self._transfer()\n",
    "        if self.out_stack:\n",
    "            return self.out_stack[-1]\n",
    "        else:\n",
    "            print(\"Queue is empty!\")\n",
    "\n",
    "    def __repr__(self):\n",
    "        if not self.out_stack:\n",
    "            self._transfer()\n",
    "        if self.out_stack:\n",
    "            return repr(self.out_stack)\n",
    "        else:\n",
    "            print(\"Queue is empty!\")\n",
    "\n",
    "    def isEmpty(self):\n",
    "        return not (bool(self.in_stack) or bool(self.out_stack))\n",
    "\n",
    "\n",
    "if __name__ == \"__main__\":\n",
    "    queue = Queue()\n",
    "    print(\"큐가 비었나요? {0}\".format(queue.isEmpty()))\n",
    "    print(\"큐에 숫자 0~9를 추가합니다.\")\n",
    "    for i in range(10):\n",
    "        queue.enqueue(i)\n",
    "    print(\"큐 크기: {0}\".format(queue.size()))\n",
    "    print(\"peek: {0}\".format(queue.peek()))\n",
    "    print(\"dequeue: {0}\".format(queue.dequeue()))\n",
    "    print(\"peek: {0}\".format(queue.peek()))\n",
    "    print(\"큐가 비었나요? {0}\".format(queue.isEmpty()))\n",
    "    print(queue)"
   ]
  },
  {
   "cell_type": "code",
   "execution_count": null,
   "metadata": {},
   "outputs": [],
   "source": [
    "## linked queue\n",
    "# 노드의 컨테이너로 큐를 구현\n",
    "\n",
    "class Node(object):\n",
    "    def __init__(self, value=None, pointer=None):\n",
    "        self.value = value\n",
    "        self.pointer = None\n",
    "\n",
    "\n",
    "class LinkedQueue(object):\n",
    "    def __init__(self):\n",
    "        self.head = None\n",
    "        self.tail = None\n",
    "        self.count = 0\n",
    "\n",
    "    def isEmpty(self):\n",
    "        return not bool(self.head)\n",
    "\n",
    "    def dequeue(self):\n",
    "        if self.head:\n",
    "            value = self.head.value\n",
    "            self.head = self.head.pointer\n",
    "            self.count -= 1\n",
    "            return value\n",
    "        else:\n",
    "            print(\"Queue is empty.\")\n",
    "\n",
    "    def enqueue(self, value):\n",
    "        node = Node(value)\n",
    "        if not self.head:\n",
    "            self.head = node\n",
    "            self.tail = node\n",
    "        else:\n",
    "            if self.tail:\n",
    "                self.tail.pointer = node\n",
    "            self.tail = node\n",
    "        self.count += 1\n",
    "\n",
    "    def size(self):\n",
    "        # node = self.head\n",
    "        # num_nodes = 0\n",
    "        # while node:\n",
    "        #     num_nodes += 1\n",
    "        #     node = node.pointer\n",
    "        # return num_nodes\n",
    "        return self.count\n",
    "\n",
    "    def peek(self):\n",
    "        return self.head.value\n",
    "\n",
    "    def print(self):\n",
    "        node = self.head\n",
    "        while node:\n",
    "            print(node.value, end=\" \")\n",
    "            node = node.pointer\n",
    "        print()\n",
    "\n",
    "\n",
    "if __name__ == \"__main__\":\n",
    "    queue = LinkedQueue()\n",
    "    print(\"큐가 비었나요? {0}\".format(queue.isEmpty()))\n",
    "    print(\"큐에 숫자 0~9를 추가합니다.\")\n",
    "    for i in range(10):\n",
    "        queue.enqueue(i)\n",
    "    print(\"큐가 비었나요? {0}\".format(queue.isEmpty()))\n",
    "    queue.print()\n",
    "\n",
    "    print(\"큐 크기: {0}\".format(queue.size()))\n",
    "    print(\"peek: {0}\".format(queue.peek()))\n",
    "    print(\"dequeue: {0}\".format(queue.dequeue()))\n",
    "    print(\"peek: {0}\".format(queue.peek()))\n",
    "    queue.print()"
   ]
  },
  {
   "cell_type": "markdown",
   "metadata": {},
   "source": [
    "> Queue는 BFS(너비 우선 탐색)에서 사용됨"
   ]
  },
  {
   "cell_type": "markdown",
   "metadata": {},
   "source": [
    "### 데크 deque"
   ]
  },
  {
   "cell_type": "markdown",
   "metadata": {},
   "source": [
    "데크: 스택과 큐의 결합체. 양쪽 끝에서 조회, 삽입, 삭제 가능"
   ]
  },
  {
   "cell_type": "code",
   "execution_count": 6,
   "metadata": {},
   "outputs": [
    {
     "name": "stdout",
     "output_type": "stream",
     "text": [
      "데크(Deque)가 비었나요? True\n",
      "데크에 숫자 0~9를 추가합니다.\n",
      "데크 크기: 10\n",
      "peek: 0\n",
      "dequeue: 0\n",
      "peek: 1\n",
      "데크가 비었나요? False\n",
      "\n",
      "데크: [9, 8, 7, 6, 5, 4, 3, 2, 1]\n",
      "dequeue: 9\n",
      "peek: 1\n",
      "데크: [8, 7, 6, 5, 4, 3, 2, 1]\n",
      "enqueue_back(50)을 수행합니다.\n",
      "peek: 50\n",
      "데크: [8, 7, 6, 5, 4, 3, 2, 1, 50]\n"
     ]
    }
   ],
   "source": [
    "#from queue import Queue\n",
    "\n",
    "\n",
    "class Deque(Queue): # 내장 모듈이 아닌 직접 구현한 Queue class\n",
    "    def enqueue_back(self, item):\n",
    "        self.items.append(item)\n",
    "\n",
    "    def dequeue_front(self):\n",
    "        value = self.items.pop(0)\n",
    "        if value is not None:\n",
    "            return value\n",
    "        else:\n",
    "            print(\"Deque is empty.\")\n",
    "\n",
    "\n",
    "if __name__ == \"__main__\":\n",
    "    deque = Deque()\n",
    "    print(\"데크(Deque)가 비었나요? {0}\".format(deque.isEmpty()))\n",
    "    print(\"데크에 숫자 0~9를 추가합니다.\")\n",
    "    for i in range(10):\n",
    "        deque.enqueue(i)\n",
    "    print(\"데크 크기: {0}\".format(deque.size()))\n",
    "    print(\"peek: {0}\".format(deque.peek()))\n",
    "    print(\"dequeue: {0}\".format(deque.dequeue()))\n",
    "    print(\"peek: {0}\".format(deque.peek()))\n",
    "    print(\"데크가 비었나요? {0}\".format(deque.isEmpty()))\n",
    "    print()\n",
    "    print(\"데크: {0}\".format(deque))\n",
    "    print(\"dequeue: {0}\".format(deque.dequeue_front()))\n",
    "    print(\"peek: {0}\".format(deque.peek()))\n",
    "    print(\"데크: {0}\".format(deque))\n",
    "    print(\"enqueue_back(50)을 수행합니다.\")\n",
    "    deque.enqueue_back(50)\n",
    "    print(\"peek: {0}\".format(deque.peek()))\n",
    "    print(\"데크: {0}\".format(deque))"
   ]
  },
  {
   "cell_type": "markdown",
   "metadata": {},
   "source": [
    "> 끝이 아닌 다른 위치에 있는 항목을 삽입하거나 제거할 때 비효율적 => collections의 deque 모듈 사용(동적 배열x. 이중 연결 리스트 기반)"
   ]
  },
  {
   "cell_type": "code",
   "execution_count": 11,
   "metadata": {},
   "outputs": [
    {
     "data": {
      "text/plain": [
       "deque(['버피', '잰더', '월로'])"
      ]
     },
     "execution_count": 11,
     "metadata": {},
     "output_type": "execute_result"
    }
   ],
   "source": [
    "from collections import deque\n",
    "\n",
    "q = deque([\"버피\", \"잰더\", \"월로\"])\n",
    "q"
   ]
  },
  {
   "cell_type": "code",
   "execution_count": 12,
   "metadata": {},
   "outputs": [
    {
     "data": {
      "text/plain": [
       "deque(['엔젤', '잰더', '월로'])"
      ]
     },
     "execution_count": 12,
     "metadata": {},
     "output_type": "execute_result"
    }
   ],
   "source": [
    "q.append(\"자일스\")\n",
    "q.popleft()\n",
    "q.pop()\n",
    "q.appendleft('엔젤')\n",
    "q"
   ]
  },
  {
   "cell_type": "code",
   "execution_count": 13,
   "metadata": {},
   "outputs": [
    {
     "data": {
      "text/plain": [
       "deque(['월로', '엔젤', '잰더'])"
      ]
     },
     "execution_count": 13,
     "metadata": {},
     "output_type": "execute_result"
    }
   ],
   "source": [
    "#q = deque(maxlen=4) # deque모듈: 데크의 크기 지정 가능\n",
    "q.rotate(1)\n",
    "q"
   ]
  },
  {
   "cell_type": "code",
   "execution_count": 14,
   "metadata": {},
   "outputs": [
    {
     "data": {
      "text/plain": [
       "deque(['잰더', '월로', '엔젤'])"
      ]
     },
     "execution_count": 14,
     "metadata": {},
     "output_type": "execute_result"
    }
   ],
   "source": [
    "q.rotate(-2)\n",
    "q"
   ]
  },
  {
   "cell_type": "markdown",
   "metadata": {},
   "source": [
    "> rotate(n): n이 양수이면 오른쪽, 음수이면 왼쪽으로 n만큼 shift"
   ]
  },
  {
   "cell_type": "markdown",
   "metadata": {},
   "source": [
    "### 우선순위 큐 & 힙"
   ]
  },
  {
   "cell_type": "code",
   "execution_count": null,
   "metadata": {},
   "outputs": [],
   "source": []
  }
 ],
 "metadata": {
  "kernelspec": {
   "display_name": "Python 3",
   "language": "python",
   "name": "python3"
  },
  "language_info": {
   "codemirror_mode": {
    "name": "ipython",
    "version": 3
   },
   "file_extension": ".py",
   "mimetype": "text/x-python",
   "name": "python",
   "nbconvert_exporter": "python",
   "pygments_lexer": "ipython3",
   "version": "3.7.6"
  }
 },
 "nbformat": 4,
 "nbformat_minor": 4
}
