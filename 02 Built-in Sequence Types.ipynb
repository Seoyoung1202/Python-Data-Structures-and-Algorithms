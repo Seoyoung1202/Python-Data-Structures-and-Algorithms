{
 "cells": [
  {
   "cell_type": "markdown",
   "metadata": {},
   "source": [
    "## 02 내장 시퀀스 타입 "
   ]
  },
  {
   "cell_type": "markdown",
   "metadata": {},
   "source": [
    "sequence type 속성\n",
    "- 멤버십 연산: in 키워드 사용\n",
    "- 크기 함수: len(seq)\n",
    "- 슬라이싱 속성: seq[:-1]\n",
    "- 반복성 iterability: 반복문에 있는 데이터를 순회할 수 있음"
   ]
  },
  {
   "cell_type": "markdown",
   "metadata": {},
   "source": [
    "5개의 내장 시퀀스 타입\n",
    "- 문자열\n",
    "- 튜플\n",
    "- 리스트\n",
    "- 바이트 배열\n",
    "- 바이트\n",
    "- (collections 모듈의 named tuple)"
   ]
  },
  {
   "cell_type": "code",
   "execution_count": 1,
   "metadata": {},
   "outputs": [
    {
     "data": {
      "text/plain": [
       "list"
      ]
     },
     "execution_count": 1,
     "metadata": {},
     "output_type": "execute_result"
    }
   ],
   "source": [
    "l = []\n",
    "type(l)"
   ]
  },
  {
   "cell_type": "code",
   "execution_count": 2,
   "metadata": {},
   "outputs": [
    {
     "data": {
      "text/plain": [
       "str"
      ]
     },
     "execution_count": 2,
     "metadata": {},
     "output_type": "execute_result"
    }
   ],
   "source": [
    "s = \"\"\n",
    "type(s)"
   ]
  },
  {
   "cell_type": "code",
   "execution_count": 3,
   "metadata": {},
   "outputs": [
    {
     "data": {
      "text/plain": [
       "tuple"
      ]
     },
     "execution_count": 3,
     "metadata": {},
     "output_type": "execute_result"
    }
   ],
   "source": [
    "t = ()\n",
    "type(t)"
   ]
  },
  {
   "cell_type": "code",
   "execution_count": 4,
   "metadata": {},
   "outputs": [
    {
     "data": {
      "text/plain": [
       "bytearray"
      ]
     },
     "execution_count": 4,
     "metadata": {},
     "output_type": "execute_result"
    }
   ],
   "source": [
    "ba = bytearray(b\"\")\n",
    "type(ba)"
   ]
  },
  {
   "cell_type": "code",
   "execution_count": 5,
   "metadata": {},
   "outputs": [
    {
     "data": {
      "text/plain": [
       "bytes"
      ]
     },
     "execution_count": 5,
     "metadata": {},
     "output_type": "execute_result"
    }
   ],
   "source": [
    "b = bytes([])\n",
    "type(b)"
   ]
  },
  {
   "cell_type": "markdown",
   "metadata": {},
   "source": [
    "### 깊은 복사 & 슬라이싱 연산"
   ]
  },
  {
   "cell_type": "markdown",
   "metadata": {},
   "source": [
    "불변 객체 타입\n",
    "- 튜플\n",
    "- 문자열\n",
    "- 바이트\n",
    "- 일반적으로 가변 객체 타입보다 효율적\n",
    "\n",
    "가변 객체 타입\n",
    "- 리스트\n",
    "- 바이트\n",
    "\n",
    "일부 컬렉션 데이터 타입(셋, 딕셔너리)은 불변 데이터 타입으로 인덱싱 가능"
   ]
  },
  {
   "cell_type": "markdown",
   "metadata": {},
   "source": [
    "파이썬의 모든 변수는 객체 참조 => 가변 객체 복사시 주의\n",
    "\n",
    "a = b : a는 b가 참조하는 곳을 가리킴"
   ]
  },
  {
   "cell_type": "markdown",
   "metadata": {},
   "source": [
    "> [깊은 복사(deep copy)](https://blueshw.github.io/2016/01/20/shallow-copy-deep-copy/#%EC%A0%95%EB%A6%AC%ED%95%B4%EB%B3%B4%EB%A9%B4)"
   ]
  },
  {
   "cell_type": "code",
   "execution_count": 2,
   "metadata": {},
   "outputs": [],
   "source": [
    "# List 깊은 복사\n",
    "myList = [1,2,3,4]\n",
    "newList = myList[:]\n",
    "newList2 = list(myList)"
   ]
  },
  {
   "cell_type": "code",
   "execution_count": 3,
   "metadata": {},
   "outputs": [
    {
     "data": {
      "text/plain": [
       "{'버피'}"
      ]
     },
     "execution_count": 3,
     "metadata": {},
     "output_type": "execute_result"
    }
   ],
   "source": [
    "# Set 깊은 복사\n",
    "people = {\"버피\", \"에인절\", \"자일스\"}\n",
    "slayers = people.copy()\n",
    "slayers.discard(\"자일스\")\n",
    "slayers.remove(\"에인절\")\n",
    "slayers"
   ]
  },
  {
   "cell_type": "code",
   "execution_count": 4,
   "metadata": {},
   "outputs": [
    {
     "data": {
      "text/plain": [
       "{'버피', '에인절', '자일스'}"
      ]
     },
     "execution_count": 4,
     "metadata": {},
     "output_type": "execute_result"
    }
   ],
   "source": [
    "people"
   ]
  },
  {
   "cell_type": "code",
   "execution_count": 5,
   "metadata": {},
   "outputs": [],
   "source": [
    "# Dictionary 깊은 복사\n",
    "myDict = {\"안녕\": \"세상\"}\n",
    "newDict = myDict.copy()"
   ]
  },
  {
   "cell_type": "code",
   "execution_count": 6,
   "metadata": {},
   "outputs": [],
   "source": [
    "# 기타 객체: copy모듈 사용\n",
    "import copy\n",
    "\n",
    "myObj = \"다른 어떤 객체\"\n",
    "newObj = copy.copy(myObj) # 얕은 복사 shallow copy\n",
    "newObj2 = copy.deepcopy(myObj) # 깊은 복사 deep copy"
   ]
  },
  {
   "cell_type": "markdown",
   "metadata": {},
   "source": [
    "슬라이싱 연산자\n",
    "\n",
    "- seq[ 시작 ]\n",
    "- seq[ 시작:끝 ]\n",
    "- [seq[ 시작:끝:스텝 ]](https://twpower.github.io/119-python-list-slicing-examples)"
   ]
  },
  {
   "cell_type": "code",
   "execution_count": 12,
   "metadata": {},
   "outputs": [
    {
     "data": {
      "text/plain": [
       "'!'"
      ]
     },
     "execution_count": 12,
     "metadata": {},
     "output_type": "execute_result"
    }
   ],
   "source": [
    "word = \"뱀파이어를 조심해!\"\n",
    "word[-1]"
   ]
  },
  {
   "cell_type": "code",
   "execution_count": 13,
   "metadata": {},
   "outputs": [
    {
     "data": {
      "text/plain": [
       "'해'"
      ]
     },
     "execution_count": 13,
     "metadata": {},
     "output_type": "execute_result"
    }
   ],
   "source": [
    "word[-2]"
   ]
  },
  {
   "cell_type": "code",
   "execution_count": 14,
   "metadata": {},
   "outputs": [
    {
     "data": {
      "text/plain": [
       "'해!'"
      ]
     },
     "execution_count": 14,
     "metadata": {},
     "output_type": "execute_result"
    }
   ],
   "source": [
    "word[-2:]"
   ]
  },
  {
   "cell_type": "code",
   "execution_count": 15,
   "metadata": {},
   "outputs": [
    {
     "data": {
      "text/plain": [
       "'뱀파이어를 조심'"
      ]
     },
     "execution_count": 15,
     "metadata": {},
     "output_type": "execute_result"
    }
   ],
   "source": [
    "word[:-2]"
   ]
  },
  {
   "cell_type": "code",
   "execution_count": 16,
   "metadata": {},
   "outputs": [
    {
     "data": {
      "text/plain": [
       "'뱀'"
      ]
     },
     "execution_count": 16,
     "metadata": {},
     "output_type": "execute_result"
    }
   ],
   "source": [
    "word[-0]"
   ]
  },
  {
   "cell_type": "code",
   "execution_count": 19,
   "metadata": {},
   "outputs": [
    {
     "data": {
      "text/plain": [
       "'이를조해'"
      ]
     },
     "execution_count": 19,
     "metadata": {},
     "output_type": "execute_result"
    }
   ],
   "source": [
    "word[2::2]"
   ]
  },
  {
   "cell_type": "markdown",
   "metadata": {},
   "source": [
    "### 문자열"
   ]
  },
  {
   "cell_type": "markdown",
   "metadata": {},
   "source": [
    "[객체 출력 형식](https://stackoverflow.com/questions/38418070/what-does-r-do-in-str-and-repr)\n",
    "- 문자열 형식 (string)\n",
    "- 표현 형식 (representational)"
   ]
  },
  {
   "cell_type": "markdown",
   "metadata": {},
   "source": [
    "유니코드: 문자열 앞에 u를붙임"
   ]
  },
  {
   "cell_type": "code",
   "execution_count": 21,
   "metadata": {},
   "outputs": [
    {
     "data": {
      "text/plain": [
       "'잘가 세상!'"
      ]
     },
     "execution_count": 21,
     "metadata": {},
     "output_type": "execute_result"
    }
   ],
   "source": [
    "u'잘가\\u0020세상!'"
   ]
  },
  {
   "cell_type": "markdown",
   "metadata": {},
   "source": [
    "join(): A.join(B) 리스트 B에 있는 모든 문자열을 하나의 단일 문자열 A로 결합. + 보다 효율적"
   ]
  },
  {
   "cell_type": "code",
   "execution_count": 22,
   "metadata": {},
   "outputs": [
    {
     "data": {
      "text/plain": [
       "'버피 앤 아스틴'"
      ]
     },
     "execution_count": 22,
     "metadata": {},
     "output_type": "execute_result"
    }
   ],
   "source": [
    "slayer = [\"버피\", \"앤\", \"아스틴\"]\n",
    "\" \".join(slayer)"
   ]
  },
  {
   "cell_type": "code",
   "execution_count": 24,
   "metadata": {},
   "outputs": [
    {
     "data": {
      "text/plain": [
       "'버피앤아스틴'"
      ]
     },
     "execution_count": 24,
     "metadata": {},
     "output_type": "execute_result"
    }
   ],
   "source": [
    "\"\".join(slayer)"
   ]
  },
  {
   "cell_type": "code",
   "execution_count": 25,
   "metadata": {},
   "outputs": [
    {
     "data": {
      "text/plain": [
       "'아스틴앤버피'"
      ]
     },
     "execution_count": 25,
     "metadata": {},
     "output_type": "execute_result"
    }
   ],
   "source": [
    "# reversed() 같이 사용 가능\n",
    "\"\".join(reversed(slayer))"
   ]
  },
  {
   "cell_type": "markdown",
   "metadata": {},
   "source": [
    "ljust(), rjust()\n",
    "\n",
    "A.ljust(width, fillchar) 문자열 A **맨 처음**부터 문자열을 포함한 길이 width만큼 문자 fillchar를 채움\n",
    "\n",
    "A.rjust(width, fillchar) 문자열 A **맨 끝**부터 문자열을 포함한 길이 width만큼 문자 fillchar를 채움"
   ]
  },
  {
   "cell_type": "code",
   "execution_count": 26,
   "metadata": {},
   "outputs": [
    {
     "data": {
      "text/plain": [
       "'스칼렛-----------------------------------------------'"
      ]
     },
     "execution_count": 26,
     "metadata": {},
     "output_type": "execute_result"
    }
   ],
   "source": [
    "name = \"스칼렛\"\n",
    "name.ljust(50, '-')"
   ]
  },
  {
   "cell_type": "code",
   "execution_count": 27,
   "metadata": {},
   "outputs": [
    {
     "data": {
      "text/plain": [
       "'-----------------------------------------------스칼렛'"
      ]
     },
     "execution_count": 27,
     "metadata": {},
     "output_type": "execute_result"
    }
   ],
   "source": [
    "name.rjust(50, '-')"
   ]
  },
  {
   "cell_type": "markdown",
   "metadata": {},
   "source": [
    "format(): A.format() 문자열 A에 변수를 추가하거나 형식화"
   ]
  },
  {
   "cell_type": "code",
   "execution_count": 28,
   "metadata": {},
   "outputs": [
    {
     "data": {
      "text/plain": [
       "'안녕 파이썬'"
      ]
     },
     "execution_count": 28,
     "metadata": {},
     "output_type": "execute_result"
    }
   ],
   "source": [
    "\"{0} {1}\".format(\"안녕\", \"파이썬\")"
   ]
  },
  {
   "cell_type": "code",
   "execution_count": 29,
   "metadata": {},
   "outputs": [
    {
     "data": {
      "text/plain": [
       "'이름: 제임스, 나이: 17'"
      ]
     },
     "execution_count": 29,
     "metadata": {},
     "output_type": "execute_result"
    }
   ],
   "source": [
    "\"이름: {who}, 나이: {age}\".format(who=\"제임스\", age=17)"
   ]
  },
  {
   "cell_type": "code",
   "execution_count": 30,
   "metadata": {},
   "outputs": [
    {
     "data": {
      "text/plain": [
       "'이름: 에이미, 나이: 12'"
      ]
     },
     "execution_count": 30,
     "metadata": {},
     "output_type": "execute_result"
    }
   ],
   "source": [
    "\"이름: {who}, 나이: {0}\".format(12, who=\"에이미\")"
   ]
  },
  {
   "cell_type": "code",
   "execution_count": 31,
   "metadata": {},
   "outputs": [
    {
     "data": {
      "text/plain": [
       "'파이썬 자료구조 알고리즘'"
      ]
     },
     "execution_count": 31,
     "metadata": {},
     "output_type": "execute_result"
    }
   ],
   "source": [
    "\"{} {} {}\".format(\"파이썬\", \"자료구조\", \"알고리즘\") # 필드 이름이나 인덱스 생략 가능"
   ]
  },
  {
   "cell_type": "code",
   "execution_count": 33,
   "metadata": {},
   "outputs": [
    {
     "data": {
      "text/plain": [
       "\"99.9 99.9 Decimal('99.9') Decimal('99.9')\""
      ]
     },
     "execution_count": 33,
     "metadata": {},
     "output_type": "execute_result"
    }
   ],
   "source": [
    "import decimal\n",
    "\n",
    "\"{0} {0!s} {0!r} {0!a}\".format(decimal.Decimal(\"99.9\")) # 지정자 3가지 - s: 문자열 형식, r: 표현 형식, a: 아스키코드 형식"
   ]
  },
  {
   "cell_type": "markdown",
   "metadata": {},
   "source": [
    "문자열 언패킹 mapping unpacking 연산자 ** : 함수로 전달하기에 적합한 키-값 딕셔너리 생성\n",
    "\n",
    "locals(): 현재 scope에 있는 지역 변수를 딕셔너리로 반환"
   ]
  },
  {
   "cell_type": "code",
   "execution_count": 34,
   "metadata": {},
   "outputs": [
    {
     "data": {
      "text/plain": [
       "'999: 버피'"
      ]
     },
     "execution_count": 34,
     "metadata": {},
     "output_type": "execute_result"
    }
   ],
   "source": [
    "hero = \"버피\"\n",
    "number = 999\n",
    "\"{number}: {hero}\".format(**locals())"
   ]
  },
  {
   "cell_type": "markdown",
   "metadata": {},
   "source": [
    "splitlines(): A.splitliness() 문자열 A에 대해 줄 바꿈 문자를 기준으로 분리한 결과를 문자열 리스트로 반환"
   ]
  },
  {
   "cell_type": "code",
   "execution_count": 35,
   "metadata": {},
   "outputs": [
    {
     "data": {
      "text/plain": [
       "['로미오', '줄리엣']"
      ]
     },
     "execution_count": 35,
     "metadata": {},
     "output_type": "execute_result"
    }
   ],
   "source": [
    "slayers = \"로미오\\n줄리엣\" # \\s, \\t 등은 적용x\n",
    "slayers.splitlines()"
   ]
  },
  {
   "cell_type": "markdown",
   "metadata": {},
   "source": [
    "split(): A.split(t, n) 문자열 A에서 문자열 t를 기준으로 n번만큼 분리한 문자열 리스트를 반환. n 미지정 시 최대한 분리, t 미지정 시 whitespace로 구분"
   ]
  },
  {
   "cell_type": "code",
   "execution_count": 40,
   "metadata": {},
   "outputs": [
    {
     "data": {
      "text/plain": [
       "['버피', '크리스-메리', '16']"
      ]
     },
     "execution_count": 40,
     "metadata": {},
     "output_type": "execute_result"
    }
   ],
   "source": [
    "slayers = \"버피*크리스-메리*16\"\n",
    "fields = slayers.split(\"*\")\n",
    "fields"
   ]
  },
  {
   "cell_type": "code",
   "execution_count": 41,
   "metadata": {},
   "outputs": [
    {
     "data": {
      "text/plain": [
       "['크리스', '메리']"
      ]
     },
     "execution_count": 41,
     "metadata": {},
     "output_type": "execute_result"
    }
   ],
   "source": [
    "job = fields[1].split(\"-\")\n",
    "job"
   ]
  },
  {
   "cell_type": "code",
   "execution_count": 42,
   "metadata": {},
   "outputs": [],
   "source": [
    "# 공백 제거 함수\n",
    "def erase_space_from_string(string):\n",
    "    s1 = string.split(\" \")\n",
    "    s2 = \"\".join(s1)\n",
    "    return s2"
   ]
  },
  {
   "cell_type": "code",
   "execution_count": 45,
   "metadata": {},
   "outputs": [
    {
     "data": {
      "text/plain": [
       "['안녕', '세상*!']"
      ]
     },
     "execution_count": 45,
     "metadata": {},
     "output_type": "execute_result"
    }
   ],
   "source": [
    "start = \"안녕*세상*!\"\n",
    "start.split(\"*\", 1"
   ]
  },
  {
   "cell_type": "code",
   "execution_count": 46,
   "metadata": {},
   "outputs": [
    {
     "data": {
      "text/plain": [
       "['안녕*세상', '!']"
      ]
     },
     "execution_count": 46,
     "metadata": {},
     "output_type": "execute_result"
    }
   ],
   "source": [
    "# rsplit()\n",
    "start.rsplit(\"*\", 1)"
   ]
  },
  {
   "cell_type": "markdown",
   "metadata": {},
   "source": [
    "strip(): A.strip(B) 문자열 A 앞뒤의 문자열 B를 제거. B 미입력 시 공백 문자 제거\n",
    "\n",
    "lstrip(),rstrip()"
   ]
  },
  {
   "cell_type": "code",
   "execution_count": 47,
   "metadata": {},
   "outputs": [
    {
     "data": {
      "text/plain": [
       "'로미오 & 줄리엣'"
      ]
     },
     "execution_count": 47,
     "metadata": {},
     "output_type": "execute_result"
    }
   ],
   "source": [
    "slayers = \"로미오 & 줄리엣999\"\n",
    "slayers.strip(\"999\") # 숫자도 문자열로 입력"
   ]
  },
  {
   "cell_type": "code",
   "execution_count": null,
   "metadata": {},
   "outputs": [],
   "source": [
    "# 모든 단어와 각 단어가 등장한 횟수 알파벳순으로 출력\n",
    "\n",
    "import string\n",
    "import sys\n",
    "\n",
    "\n",
    "def count_unique_word():\n",
    "    words = {}\n",
    "    strip = string.whitespace + string.punctuation + string.digits + \"\\\"'\"\n",
    "    for filename in sys.argv[1:]:\n",
    "        with open(filename) as file:\n",
    "            for line in file:\n",
    "                for word in line.lower().split():\n",
    "                    word = word.strip(strip)\n",
    "                    if len(word) > 2:\n",
    "                        words[word] = words.get(word, 0) + 1\n",
    "\n",
    "    for word in sorted(words):\n",
    "        print(\"'{0}': {1}번\".format(word, words[word]))\n",
    "\n",
    "\n",
    "if __name__ == \"__main__\":\n",
    "    count_unique_word()"
   ]
  },
  {
   "cell_type": "markdown",
   "metadata": {},
   "source": [
    "swapcase(): A.swapcase() 문자열 A에서 대소문자를 반전한 복사본을 반환\n",
    "\n",
    "capitalize(), lower(), upper()"
   ]
  },
  {
   "cell_type": "code",
   "execution_count": 50,
   "metadata": {},
   "outputs": [
    {
     "data": {
      "text/plain": [
       "'bUFFY AND fAITH'"
      ]
     },
     "execution_count": 50,
     "metadata": {},
     "output_type": "execute_result"
    }
   ],
   "source": [
    "slayers = \"Buffy and Faith\"\n",
    "slayers.swapcase()"
   ]
  },
  {
   "cell_type": "markdown",
   "metadata": {},
   "source": [
    "index(): A.index(sub, start, end) 문자열 A에서 부분 문자열 sub의 인덱스 위치를 반환\n",
    "\n",
    "find(): A.find(sub, start, end) 문자열 A에서 부분 문자열 sub의 인덱스 위치를 반환. 실패 시 -1 반환\n",
    "\n",
    "start,end 생략 시 전체 범위"
   ]
  },
  {
   "cell_type": "code",
   "execution_count": 51,
   "metadata": {},
   "outputs": [
    {
     "data": {
      "text/plain": [
       "4"
      ]
     },
     "execution_count": 51,
     "metadata": {},
     "output_type": "execute_result"
    }
   ],
   "source": [
    "slayers = \"Buffy and Faith\"\n",
    "slayers.find(\"y\")"
   ]
  },
  {
   "cell_type": "code",
   "execution_count": 52,
   "metadata": {},
   "outputs": [
    {
     "data": {
      "text/plain": [
       "-1"
      ]
     },
     "execution_count": 52,
     "metadata": {},
     "output_type": "execute_result"
    }
   ],
   "source": [
    "slayers.find(\"k\")"
   ]
  },
  {
   "cell_type": "code",
   "execution_count": 53,
   "metadata": {},
   "outputs": [
    {
     "ename": "ValueError",
     "evalue": "substring not found",
     "output_type": "error",
     "traceback": [
      "\u001b[1;31m---------------------------------------------------------------------------\u001b[0m",
      "\u001b[1;31mValueError\u001b[0m                                Traceback (most recent call last)",
      "\u001b[1;32m<ipython-input-53-7cea7291525c>\u001b[0m in \u001b[0;36m<module>\u001b[1;34m\u001b[0m\n\u001b[1;32m----> 1\u001b[1;33m \u001b[0mslayers\u001b[0m\u001b[1;33m.\u001b[0m\u001b[0mindex\u001b[0m\u001b[1;33m(\u001b[0m\u001b[1;34m\"k\"\u001b[0m\u001b[1;33m)\u001b[0m\u001b[1;33m\u001b[0m\u001b[1;33m\u001b[0m\u001b[0m\n\u001b[0m",
      "\u001b[1;31mValueError\u001b[0m: substring not found"
     ]
    }
   ],
   "source": [
    "slayers.index(\"k\")"
   ]
  },
  {
   "cell_type": "code",
   "execution_count": 54,
   "metadata": {},
   "outputs": [
    {
     "data": {
      "text/plain": [
       "4"
      ]
     },
     "execution_count": 54,
     "metadata": {},
     "output_type": "execute_result"
    }
   ],
   "source": [
    "slayers.index(\"y\")"
   ]
  },
  {
   "cell_type": "code",
   "execution_count": 58,
   "metadata": {},
   "outputs": [
    {
     "data": {
      "text/plain": [
       "2"
      ]
     },
     "execution_count": 58,
     "metadata": {},
     "output_type": "execute_result"
    }
   ],
   "source": [
    "slayers.index(\"f\")"
   ]
  },
  {
   "cell_type": "code",
   "execution_count": 59,
   "metadata": {},
   "outputs": [
    {
     "data": {
      "text/plain": [
       "3"
      ]
     },
     "execution_count": 59,
     "metadata": {},
     "output_type": "execute_result"
    }
   ],
   "source": [
    "# rindex()\n",
    "slayers.rindex(\"f\")"
   ]
  },
  {
   "cell_type": "code",
   "execution_count": 62,
   "metadata": {},
   "outputs": [
    {
     "data": {
      "text/plain": [
       "3"
      ]
     },
     "execution_count": 62,
     "metadata": {},
     "output_type": "execute_result"
    }
   ],
   "source": [
    "# rfind()\n",
    "slayers.rfind(\"f\")"
   ]
  },
  {
   "cell_type": "markdown",
   "metadata": {},
   "source": [
    "count(): A.count(sub, start, end) 문자열 A에서 인덱스 start, end 범위 내의 부분 문자열 sub이 나온 횟수 반환"
   ]
  },
  {
   "cell_type": "code",
   "execution_count": 65,
   "metadata": {},
   "outputs": [
    {
     "data": {
      "text/plain": [
       "2"
      ]
     },
     "execution_count": 65,
     "metadata": {},
     "output_type": "execute_result"
    }
   ],
   "source": [
    "slayer = \"Buffy is Buffy is Buffy\"\n",
    "slayer.count(\"Buffy\", 0, -1)"
   ]
  },
  {
   "cell_type": "code",
   "execution_count": 66,
   "metadata": {},
   "outputs": [
    {
     "data": {
      "text/plain": [
       "3"
      ]
     },
     "execution_count": 66,
     "metadata": {},
     "output_type": "execute_result"
    }
   ],
   "source": [
    "slayer.count(\"Buffy\")"
   ]
  },
  {
   "cell_type": "markdown",
   "metadata": {},
   "source": [
    "replace(): A.replace(old, new, maxreplace) 문자열 A에서 문자열 old를 대체 문자열 new로 maxreplace만큼 변경한 문자열의 복사본 반환. maxreplace 미입력 시 모든 old를 new로 변경"
   ]
  },
  {
   "cell_type": "code",
   "execution_count": 67,
   "metadata": {},
   "outputs": [
    {
     "data": {
      "text/plain": [
       "'who is who is Buffy'"
      ]
     },
     "execution_count": 67,
     "metadata": {},
     "output_type": "execute_result"
    }
   ],
   "source": [
    "slayer = \"Buffy is Buffy is Buffy\"\n",
    "slayer.replace(\"Buffy\", \"who\", 2)"
   ]
  },
  {
   "cell_type": "markdown",
   "metadata": {},
   "source": [
    "f-strings: 문자열 앞에 f를 붙여 사용. % 나 .format 보다 효율적\n",
    "\n",
    "[PEP 498](https://www.python.org/dev/peps/pep-0498/)\n",
    "\n",
    "[Formatted string literals](https://docs.python.org/3/reference/lexical_analysis.html#f-strings)"
   ]
  },
  {
   "cell_type": "code",
   "execution_count": 68,
   "metadata": {},
   "outputs": [
    {
     "data": {
      "text/plain": [
       "\"그의 이름은 '프레드'입니다.\""
      ]
     },
     "execution_count": 68,
     "metadata": {},
     "output_type": "execute_result"
    }
   ],
   "source": [
    "name = \"프레드\"\n",
    "f\"그의 이름은 {name!r}입니다.\""
   ]
  },
  {
   "cell_type": "code",
   "execution_count": 69,
   "metadata": {},
   "outputs": [
    {
     "data": {
      "text/plain": [
       "\"그의 이름은 '프레드'입니다.\""
      ]
     },
     "execution_count": 69,
     "metadata": {},
     "output_type": "execute_result"
    }
   ],
   "source": [
    "f\"그의 이름은 {repr(name)}입니다.\" # !r과 repr() 같음"
   ]
  },
  {
   "cell_type": "code",
   "execution_count": 70,
   "metadata": {},
   "outputs": [
    {
     "data": {
      "text/plain": [
       "'결과:      12.35'"
      ]
     },
     "execution_count": 70,
     "metadata": {},
     "output_type": "execute_result"
    }
   ],
   "source": [
    "import decimal\n",
    "\n",
    "width = 10\n",
    "precision = 4\n",
    "value = decimal.Decimal(\"12.34567\")\n",
    "f\"결과: {value:{width}.{precision}}\" # 중첩 필드"
   ]
  },
  {
   "cell_type": "code",
   "execution_count": 71,
   "metadata": {},
   "outputs": [
    {
     "data": {
      "text/plain": [
       "'January 27 2017'"
      ]
     },
     "execution_count": 71,
     "metadata": {},
     "output_type": "execute_result"
    }
   ],
   "source": [
    "from datetime import datetime\n",
    "\n",
    "today = datetime(year=2017, month=1, day=27)\n",
    "f\"{today:%B %d %Y}\" # 날짜 형식 지정자"
   ]
  },
  {
   "cell_type": "code",
   "execution_count": 74,
   "metadata": {},
   "outputs": [
    {
     "data": {
      "text/plain": [
       "'0x400'"
      ]
     },
     "execution_count": 74,
     "metadata": {},
     "output_type": "execute_result"
    }
   ],
   "source": [
    "number = 1024\n",
    "f\"{number:#0x}\" # 정수 형식 지정자(16진수)"
   ]
  },
  {
   "cell_type": "markdown",
   "metadata": {},
   "source": [
    "### 튜플"
   ]
  },
  {
   "cell_type": "markdown",
   "metadata": {},
   "source": [
    "쉼표로 구분된 값으로 이루어지는 시퀀스"
   ]
  },
  {
   "cell_type": "code",
   "execution_count": 76,
   "metadata": {},
   "outputs": [
    {
     "data": {
      "text/plain": [
       "(1234, '안녕!')"
      ]
     },
     "execution_count": 76,
     "metadata": {},
     "output_type": "execute_result"
    }
   ],
   "source": [
    "t1= 1234, '안녕!'\n",
    "t1"
   ]
  },
  {
   "cell_type": "code",
   "execution_count": 77,
   "metadata": {},
   "outputs": [
    {
     "data": {
      "text/plain": [
       "((1234, '안녕!'), (1, 2, 3, 4, 5))"
      ]
     },
     "execution_count": 77,
     "metadata": {},
     "output_type": "execute_result"
    }
   ],
   "source": [
    "t2 = t1, (1,2,3,4,5) # nested\n",
    "t2"
   ]
  },
  {
   "cell_type": "code",
   "execution_count": 78,
   "metadata": {},
   "outputs": [
    {
     "data": {
      "text/plain": [
       "('안녕',)"
      ]
     },
     "execution_count": 78,
     "metadata": {},
     "output_type": "execute_result"
    }
   ],
   "source": [
    "empty = ()\n",
    "t1 = '안녕',\n",
    "t1"
   ]
  },
  {
   "cell_type": "code",
   "execution_count": 79,
   "metadata": {},
   "outputs": [
    {
     "data": {
      "text/plain": [
       "1"
      ]
     },
     "execution_count": 79,
     "metadata": {},
     "output_type": "execute_result"
    }
   ],
   "source": [
    "len(t1)"
   ]
  },
  {
   "cell_type": "code",
   "execution_count": 80,
   "metadata": {},
   "outputs": [
    {
     "data": {
      "text/plain": [
       "'안녕'"
      ]
     },
     "execution_count": 80,
     "metadata": {},
     "output_type": "execute_result"
    }
   ],
   "source": [
    "t2 = ('안녕')\n",
    "t2 # 쉼표가 없으면 튜플이 생성되지 않음"
   ]
  },
  {
   "cell_type": "markdown",
   "metadata": {},
   "source": [
    "- A.count(x)\n",
    "- A.index(x)"
   ]
  },
  {
   "cell_type": "markdown",
   "metadata": {},
   "source": [
    "튜플 언패킹\n",
    "- 파이썬에서 모든 iterable 객체는 sequence unpacking operator * 를 사용해 언패킹 가능\n",
    "- 변수 할당 시 왼쪽에 두 개 이상의 변수를 사용하고, 한 변수 앞에 * 를 붙이면 해당 변수에는 오른쪽 값들 중 할당되고 남은 값이 할당됨"
   ]
  },
  {
   "cell_type": "code",
   "execution_count": 84,
   "metadata": {},
   "outputs": [
    {
     "data": {
      "text/plain": [
       "(1, [2, 3, 4])"
      ]
     },
     "execution_count": 84,
     "metadata": {},
     "output_type": "execute_result"
    }
   ],
   "source": [
    "x, *y = (1,2,3,4)\n",
    "x, y"
   ]
  },
  {
   "cell_type": "code",
   "execution_count": 85,
   "metadata": {},
   "outputs": [
    {
     "data": {
      "text/plain": [
       "([1, 2, 3], 4)"
      ]
     },
     "execution_count": 85,
     "metadata": {},
     "output_type": "execute_result"
    }
   ],
   "source": [
    "*x, y = (1,2,3,4)\n",
    "x, y"
   ]
  },
  {
   "cell_type": "markdown",
   "metadata": {},
   "source": [
    "네임드 튜플 (collections 모듈)\n",
    "\n",
    "collections.namedtuple()\n",
    "\n",
    "- 인수1: 사용자 정의 튜플 데이터 타입 이름 (보통 할당하는 변수의 이름과 똑같이 사용)\n",
    "- 인수2: 사용자 정의 튜플의 각 항목을 지정하는 '공백으로 구분된 문자열'/리스트/튜플"
   ]
  },
  {
   "cell_type": "code",
   "execution_count": 86,
   "metadata": {},
   "outputs": [
    {
     "data": {
      "text/plain": [
       "Person(name='아스틴', age=30, gender='남자')"
      ]
     },
     "execution_count": 86,
     "metadata": {},
     "output_type": "execute_result"
    }
   ],
   "source": [
    "import collections\n",
    "\n",
    "Person = collections.namedtuple('Person', 'name age gender')\n",
    "p = Person('아스틴', 30, '남자')\n",
    "p"
   ]
  },
  {
   "cell_type": "code",
   "execution_count": 87,
   "metadata": {},
   "outputs": [
    {
     "data": {
      "text/plain": [
       "'아스틴'"
      ]
     },
     "execution_count": 87,
     "metadata": {},
     "output_type": "execute_result"
    }
   ],
   "source": [
    "p.name"
   ]
  },
  {
   "cell_type": "code",
   "execution_count": 89,
   "metadata": {},
   "outputs": [
    {
     "ename": "AttributeError",
     "evalue": "can't set attribute",
     "output_type": "error",
     "traceback": [
      "\u001b[1;31m---------------------------------------------------------------------------\u001b[0m",
      "\u001b[1;31mAttributeError\u001b[0m                            Traceback (most recent call last)",
      "\u001b[1;32m<ipython-input-89-b29e99bf1482>\u001b[0m in \u001b[0;36m<module>\u001b[1;34m\u001b[0m\n\u001b[1;32m----> 1\u001b[1;33m \u001b[0mp\u001b[0m\u001b[1;33m.\u001b[0m\u001b[0mage\u001b[0m \u001b[1;33m=\u001b[0m \u001b[1;36m20\u001b[0m\u001b[1;33m\u001b[0m\u001b[1;33m\u001b[0m\u001b[0m\n\u001b[0m",
      "\u001b[1;31mAttributeError\u001b[0m: can't set attribute"
     ]
    }
   ],
   "source": [
    "p.age = 20 # 일반 튜플과 마찬가지로 불변형이므로 error"
   ]
  },
  {
   "cell_type": "markdown",
   "metadata": {},
   "source": [
    "### 리스트"
   ]
  },
  {
   "cell_type": "markdown",
   "metadata": {},
   "source": [
    "배열/연결리스트 차이 <- 파이썬의 리스트는 **배열**과 유사"
   ]
  },
  {
   "cell_type": "markdown",
   "metadata": {},
   "source": [
    "- append(), pop(): 시간복잡도 O(1)\n",
    "- remove(), index(), insert(), 멤버십테스트 in: 시간복잡도 O(n)\n",
    "\n",
    "검색/멤버십 테스트에서 셋, 딕셔너리 같은 컬렉션 타입이 더 적합할 수 있음\n",
    "\n",
    "리스트에서 항목을 정렬하여 보관하면 빠른 검색 가능"
   ]
  },
  {
   "cell_type": "markdown",
   "metadata": {},
   "source": [
    "- A.append(x) <=> A[len(A):] = [x]\n",
    "- A.extend(c) <=> A[len(A):] = c <=> A += c (c는 반복 가능한 모든 항목)\n",
    "- A.insert(i, x)\n",
    "- A.remove(x)\n",
    "- A.pop(x)\n",
    "- del cf) garbage collector\n",
    "- A.index(x)\n",
    "- A.count(x)\n",
    "- A.sort(key, reverse): in place 적용, default는 오름차순\n",
    "- A.reverse() <=> list[::-1]"
   ]
  },
  {
   "cell_type": "markdown",
   "metadata": {},
   "source": [
    "리스트 언패킹 (* 연산자)"
   ]
  },
  {
   "cell_type": "code",
   "execution_count": 90,
   "metadata": {},
   "outputs": [
    {
     "data": {
      "text/plain": [
       "(1, [2, 3, 4, 5])"
      ]
     },
     "execution_count": 90,
     "metadata": {},
     "output_type": "execute_result"
    }
   ],
   "source": [
    "first, *rest = [1,2,3,4,5]\n",
    "first, rest"
   ]
  },
  {
   "cell_type": "code",
   "execution_count": 91,
   "metadata": {},
   "outputs": [
    {
     "data": {
      "text/plain": [
       "24"
      ]
     },
     "execution_count": 91,
     "metadata": {},
     "output_type": "execute_result"
    }
   ],
   "source": [
    "def example_args(a, b, c):\n",
    "    return a * b * c\n",
    "\n",
    "L = [2,3,4]\n",
    "\n",
    "example_args(*L)"
   ]
  },
  {
   "cell_type": "markdown",
   "metadata": {},
   "source": [
    "List comprehension\n",
    "\n",
    "- [ 항목 for 항목 in 반복 가능한 객체 ]\n",
    "- [ 표현식 for 항목 in 반복 가능한 객체 ]\n",
    "- [ 표현식 for 항목 in 반복 가능한 객체 if 조건문 ]\n",
    "\n",
    "[단순한 경우에만 사용하는 것이 좋음. 가독성을 위해 여러 줄로 표현하는 것이 나을 수도 있다.](https://google.github.io/styleguide/pyguide.html)"
   ]
  },
  {
   "cell_type": "raw",
   "metadata": {},
   "source": [
    "# 좋은 예\n",
    "\n",
    "result = []\n",
    "for x in range(10):\n",
    "    for y in range(5):\n",
    "        if x * y > 10:\n",
    "            result.append((x, y))\n",
    "            \n",
    "for x in range(5):\n",
    "    for y in range(5):\n",
    "        if x != y:\n",
    "            for z in range(5):\n",
    "                if y != z:\n",
    "                    yield (x, y, z)\n",
    "                    \n",
    "return((x, complicated_transform(x))\n",
    "    for x in long_generator_function(parameter)\n",
    "    if x is not None)\n",
    "    \n",
    "squares = [x * x for x in range(10)]\n",
    "\n",
    "eat(jelly_bean for jelly_bean in jelly_beans\n",
    "   if jelly_bean.color == 'black')"
   ]
  },
  {
   "cell_type": "raw",
   "metadata": {},
   "source": [
    "# 나쁜 예\n",
    "\n",
    "result = [(x, y) for x in range(10) for y in range(5) if x * y > 10]\n",
    "\n",
    "return ((x, y, z)\n",
    "       for x in xrange(5)\n",
    "       for y in xrange(5)\n",
    "       if x != y\n",
    "       for z in xrange(5)\n",
    "       if y != z)"
   ]
  },
  {
   "cell_type": "markdown",
   "metadata": {},
   "source": [
    "리스트 메서드 성능 측정\n",
    "- timeit 모듈의 Timer 객체\n",
    "    - 1st parameter: 측정하고자 하는 코드\n",
    "    - 2nd parameter: 테스트를 위한 설정문\n",
    "    - 명령문을 정해진 횟수만큼 실행하는 데 걸리는 시간을 측정 후 ms 단위로 반환 (기본값 number = 1000000)\n",
    "    - 임시로 garbage collection 기능 중지 cf) gc.enable()"
   ]
  },
  {
   "cell_type": "code",
   "execution_count": 93,
   "metadata": {},
   "outputs": [
    {
     "name": "stdout",
     "output_type": "stream",
     "text": [
      "concat  1.1290437000025122 milliseconds\n",
      "append  0.059868799999094335 milliseconds\n",
      "comprehension  0.028998500001762295 milliseconds\n",
      "list range  0.01235159999851021 milliseconds\n"
     ]
    }
   ],
   "source": [
    "def test1():\n",
    "    l = []\n",
    "    for i in range(1000):\n",
    "        l = l + [i]\n",
    "\n",
    "\n",
    "def test2():\n",
    "    l = []\n",
    "    for i in range(1000):\n",
    "        l.append(i)\n",
    "\n",
    "\n",
    "def test3():\n",
    "    l = [i for i in range(1000)]\n",
    "\n",
    "\n",
    "def test4():\n",
    "    l = list(range(1000))\n",
    "\n",
    "\n",
    "if __name__ == \"__main__\":\n",
    "    import timeit\n",
    "    t1 = timeit.Timer(\"test1()\", \"from __main__ import test1\")\n",
    "    print(\"concat \", t1.timeit(number=1000), \"milliseconds\")\n",
    "    t2 = timeit.Timer(\"test2()\", \"from __main__ import test2\")\n",
    "    print(\"append \", t2.timeit(number=1000), \"milliseconds\")\n",
    "    t3 = timeit.Timer(\"test3()\", \"from __main__ import test3\")\n",
    "    print(\"comprehension \", t3.timeit(number=1000), \"milliseconds\")\n",
    "    t4 = timeit.Timer(\"test4()\", \"from __main__ import test4\")\n",
    "    print(\"list range \", t4.timeit(number=1000), \"milliseconds\")"
   ]
  },
  {
   "cell_type": "code",
   "execution_count": 95,
   "metadata": {},
   "outputs": [
    {
     "data": {
      "text/html": [
       "<style>\n",
       "table {float:left}\n",
       "</style>\n"
      ],
      "text/plain": [
       "<IPython.core.display.HTML object>"
      ]
     },
     "metadata": {},
     "output_type": "display_data"
    }
   ],
   "source": [
    "%%html\n",
    "<style>\n",
    "table {float:left}\n",
    "</style>"
   ]
  },
  {
   "cell_type": "markdown",
   "metadata": {},
   "source": [
    "n: 리스트 총 항목 수\n",
    "\n",
    "k: 연산 항목 수\n",
    "\n",
    "|연산|시간복잡도|\n",
    "|----|----------|\n",
    "|인덱스 [] 접근|O(1)|\n",
    "|인덱스 할당|O(1)|\n",
    "|append()|O(1)|\n",
    "|pop()|O(1)|\n",
    "|pop(i)|O(n)|\n",
    "|insert(i,항목)|O(n)|\n",
    "|del|O(n)|\n",
    "|삽입|O(n)|\n",
    "|멤버십 테스트 in|O(n)|\n",
    "|슬라이스 [x:y] 조회|O(k)|\n",
    "|슬라이스 삭제|O(n)|\n",
    "|슬라이스 할당|O(n+k)|\n",
    "|reverse()|O(n)|\n",
    "|연결 concatenate|O(k)|\n",
    "|sort()|O(n log n)|\n",
    "|곱하기|O(nk)|"
   ]
  },
  {
   "cell_type": "markdown",
   "metadata": {},
   "source": [
    "바이트와 바이트 배열\n",
    "- byte: 불변 타입, 문자열과 유사\n",
    "- bytearray: 가변 타입, 리스트와 유사\n",
    "- 0~255 범위의 부호 없는 8bit 정수 시퀀스"
   ]
  },
  {
   "cell_type": "code",
   "execution_count": 96,
   "metadata": {},
   "outputs": [
    {
     "data": {
      "text/plain": [
       "b'\\x01\\x02\\x03\\xff'"
      ]
     },
     "execution_count": 96,
     "metadata": {},
     "output_type": "execute_result"
    }
   ],
   "source": [
    "blist = [1,2,3,255]\n",
    "the_bytes = bytes(blist)\n",
    "the_bytes"
   ]
  },
  {
   "cell_type": "code",
   "execution_count": 97,
   "metadata": {},
   "outputs": [
    {
     "data": {
      "text/plain": [
       "bytearray(b'\\x01\\x02\\x03\\xff')"
      ]
     },
     "execution_count": 97,
     "metadata": {},
     "output_type": "execute_result"
    }
   ],
   "source": [
    "the_byte_array = bytearray(blist)\n",
    "the_byte_array"
   ]
  },
  {
   "cell_type": "code",
   "execution_count": 98,
   "metadata": {},
   "outputs": [
    {
     "ename": "TypeError",
     "evalue": "'bytes' object does not support item assignment",
     "output_type": "error",
     "traceback": [
      "\u001b[1;31m---------------------------------------------------------------------------\u001b[0m",
      "\u001b[1;31mTypeError\u001b[0m                                 Traceback (most recent call last)",
      "\u001b[1;32m<ipython-input-98-c79da6f8e164>\u001b[0m in \u001b[0;36m<module>\u001b[1;34m\u001b[0m\n\u001b[1;32m----> 1\u001b[1;33m \u001b[0mthe_bytes\u001b[0m\u001b[1;33m[\u001b[0m\u001b[1;36m1\u001b[0m\u001b[1;33m]\u001b[0m \u001b[1;33m=\u001b[0m \u001b[1;36m127\u001b[0m \u001b[1;31m# immutable이므로 error\u001b[0m\u001b[1;33m\u001b[0m\u001b[1;33m\u001b[0m\u001b[0m\n\u001b[0m",
      "\u001b[1;31mTypeError\u001b[0m: 'bytes' object does not support item assignment"
     ]
    }
   ],
   "source": [
    "the_bytes[1] = 127 # immutable이므로 error"
   ]
  },
  {
   "cell_type": "code",
   "execution_count": 100,
   "metadata": {},
   "outputs": [
    {
     "data": {
      "text/plain": [
       "bytearray(b'\\x01\\x7f\\x03\\xff')"
      ]
     },
     "execution_count": 100,
     "metadata": {},
     "output_type": "execute_result"
    }
   ],
   "source": [
    "the_byte_array[1] = 127 # mutable\n",
    "the_byte_array"
   ]
  },
  {
   "cell_type": "markdown",
   "metadata": {},
   "source": [
    "비트 연산자\n",
    "- 1 << x :  숫자 1을 x번 만큼 left shift <=> 2^x\n",
    "- x & (x-1) == 0 <=> x가 2^2"
   ]
  },
  {
   "cell_type": "code",
   "execution_count": 101,
   "metadata": {},
   "outputs": [
    {
     "data": {
      "text/plain": [
       "16"
      ]
     },
     "execution_count": 101,
     "metadata": {},
     "output_type": "execute_result"
    }
   ],
   "source": [
    "x = 4\n",
    "1 << x"
   ]
  },
  {
   "cell_type": "code",
   "execution_count": 102,
   "metadata": {},
   "outputs": [
    {
     "data": {
      "text/plain": [
       "0"
      ]
     },
     "execution_count": 102,
     "metadata": {},
     "output_type": "execute_result"
    }
   ],
   "source": [
    "x = 8\n",
    "x & (x-1)"
   ]
  },
  {
   "cell_type": "code",
   "execution_count": 103,
   "metadata": {},
   "outputs": [
    {
     "data": {
      "text/plain": [
       "4"
      ]
     },
     "execution_count": 103,
     "metadata": {},
     "output_type": "execute_result"
    }
   ],
   "source": [
    "x = 6\n",
    "x & (x-1) # 0이 아님"
   ]
  },
  {
   "cell_type": "markdown",
   "metadata": {},
   "source": [
    "### 연습문제"
   ]
  },
  {
   "cell_type": "markdown",
   "metadata": {},
   "source": [
    "1. 문자열 전체 반전"
   ]
  },
  {
   "cell_type": "code",
   "execution_count": 108,
   "metadata": {},
   "outputs": [],
   "source": [
    "# 내 풀이\n",
    "\n",
    "def reverse_str(string):\n",
    "    new = string\n",
    "    for s in string:\n",
    "        new[len(string)-string.index(s)] = s\n",
    "    return new\n",
    "\n",
    "# error"
   ]
  },
  {
   "cell_type": "markdown",
   "metadata": {},
   "source": [
    "해답 코드"
   ]
  },
  {
   "cell_type": "code",
   "execution_count": 104,
   "metadata": {},
   "outputs": [
    {
     "name": "stdout",
     "output_type": "stream",
     "text": [
      "!상세 녕안\n",
      "!상세 녕안\n"
     ]
    }
   ],
   "source": [
    "def revert(s):\n",
    "    if s:\n",
    "        s = s[-1] + revert(s[:-1])\n",
    "    return s\n",
    "\n",
    "\n",
    "def revert2(string):\n",
    "    return string[::-1]\n",
    "\n",
    "\n",
    "if __name__ == \"__main__\":\n",
    "    str1 = \"안녕 세상!\"\n",
    "    str2 = revert(str1)\n",
    "    str3 = revert2(str1)\n",
    "    print(str2)\n",
    "    print(str3)"
   ]
  },
  {
   "cell_type": "markdown",
   "metadata": {},
   "source": [
    "2. 문자열 단어 단위로 반전하기"
   ]
  },
  {
   "cell_type": "code",
   "execution_count": 112,
   "metadata": {},
   "outputs": [
    {
     "name": "stdout",
     "output_type": "stream",
     "text": [
      "재미있다 정말 알고리즘 파이썬\n"
     ]
    }
   ],
   "source": [
    "def reverse_words(string):\n",
    "    return ' '.join(string.split()[::-1])\n",
    "\n",
    "if __name__ == \"__main__\":\n",
    "    str1 = \"파이썬 알고리즘 정말 재미있다\"\n",
    "    str2 = reverse_words(str1)\n",
    "    print(str2)"
   ]
  },
  {
   "cell_type": "markdown",
   "metadata": {},
   "source": [
    "해답 코드"
   ]
  },
  {
   "cell_type": "code",
   "execution_count": 113,
   "metadata": {},
   "outputs": [
    {
     "name": "stdout",
     "output_type": "stream",
     "text": [
      "재미있다 정말 알고리즘 파이썬\n"
     ]
    }
   ],
   "source": [
    "# 두 포인터를 사용\n",
    "\n",
    "def reverser(string1, p1=0, p2=None):\n",
    "    if len(string1) < 2:\n",
    "        return string1\n",
    "    p2 = p2 or len(string1)-1\n",
    "    while p1 < p2:\n",
    "        string1[p1], string1[p2] = string1[p2], string1[p1]\n",
    "        p1 += 1\n",
    "        p2 -= 1\n",
    "\n",
    "\n",
    "def reversing_words_setence_logic(string1):\n",
    "    # 먼저, 문장 전체를 반전한다.\n",
    "    reverser(string1)\n",
    "    # print(string1)\n",
    "    p = 0\n",
    "    start = 0\n",
    "    while p < len(string1):\n",
    "        if string1[p] == u\"\\u0020\":\n",
    "            # 단어를 다시 반전한다(단어를 원위치로 돌려놓는다).\n",
    "            reverser(string1, start, p-1)\n",
    "            # print(string1)\n",
    "            start = p+1\n",
    "        p += 1\n",
    "    # 마지막 단어를 반전한다(단어를 원위치로 돌려놓는다).\n",
    "    reverser(string1, start, p-1)\n",
    "    # print(string1)\n",
    "    return ''.join(string1)\n",
    "\n",
    "\n",
    "if __name__ == \"__main__\":\n",
    "    str1 = \"파이썬 알고리즘 정말 재미있다\"\n",
    "    str2 = reversing_words_setence_logic(list(str1))\n",
    "    print(str2)"
   ]
  },
  {
   "cell_type": "code",
   "execution_count": 116,
   "metadata": {},
   "outputs": [
    {
     "name": "stdout",
     "output_type": "stream",
     "text": [
      "재미있다 정말 알고리즘 파이썬\n"
     ]
    }
   ],
   "source": [
    "# 하나의 반복문만 사용\n",
    "\n",
    "def reverse_words_brute(string):\n",
    "    word, sentence = [], []\n",
    "    for character in string:\n",
    "        if character != \" \":\n",
    "            word.append(character)\n",
    "        else:\n",
    "            # 조건문에서 빈 리스트는 False다. 여러 공백이 있는 경우, 조건문을 건너뛴다.\n",
    "            if word:\n",
    "                sentence.append(''.join(word))\n",
    "            word = []\n",
    "\n",
    "    # 마지막 단어가 있다면, 문장에 추가한다.\n",
    "    if word != '':\n",
    "        sentence.append(''.join(word))\n",
    "    sentence.reverse()\n",
    "    return \" \".join(sentence)\n",
    "\n",
    "\n",
    "if __name__ == \"__main__\":\n",
    "    str1 = \"파이썬 알고리즘 정말 재미있다\"\n",
    "    str2 = reverse_words_brute(str1)\n",
    "    print(str2)"
   ]
  },
  {
   "cell_type": "code",
   "execution_count": 117,
   "metadata": {},
   "outputs": [
    {
     "name": "stdout",
     "output_type": "stream",
     "text": [
      "재미있다 정말 알고리즘 파이썬\n"
     ]
    }
   ],
   "source": [
    "def reversing_words_slice(word):\n",
    "    new_word = []\n",
    "    words = word.split(\" \")\n",
    "    for word in words[::-1]:\n",
    "        new_word.append(word)\n",
    "    return \" \".join(new_word)\n",
    "\n",
    "\n",
    "if __name__ == \"__main__\":\n",
    "    str1 = \"파이썬 알고리즘 정말 재미있다\"\n",
    "    str2 = reversing_words_slice(str1)\n",
    "    print(str2)"
   ]
  },
  {
   "cell_type": "code",
   "execution_count": 115,
   "metadata": {},
   "outputs": [
    {
     "name": "stdout",
     "output_type": "stream",
     "text": [
      "재미있다 정말 알고리즘 파이썬\n",
      "재미있다 정말 알고리즘 파이썬\n"
     ]
    }
   ],
   "source": [
    "def reversing_words(str1):\n",
    "    words = str1.split(\" \")\n",
    "    rev_set = \" \".join(reversed(words))\n",
    "    return rev_set\n",
    "\n",
    "\n",
    "def reversing_words2(str1):\n",
    "    words = str1.split(\" \")\n",
    "    words.reverse()\n",
    "    return \" \".join(words)\n",
    "\n",
    "\n",
    "if __name__ == \"__main__\":\n",
    "    str1 = \"파이썬 알고리즘 정말 재미있다\"\n",
    "    str2 = reversing_words(str1)\n",
    "    str3 = reversing_words2(str1)\n",
    "    print(str2)\n",
    "    print(str3)"
   ]
  },
  {
   "cell_type": "markdown",
   "metadata": {},
   "source": [
    "3. 단순 문자열 압축"
   ]
  },
  {
   "cell_type": "markdown",
   "metadata": {},
   "source": [
    "aabcccccaaa -> a2b1c5a3 형식으로 압축"
   ]
  },
  {
   "cell_type": "code",
   "execution_count": 133,
   "metadata": {},
   "outputs": [
    {
     "name": "stdout",
     "output_type": "stream",
     "text": [
      "a2b1c5\n"
     ]
    }
   ],
   "source": [
    "def compress(string):\n",
    "    new = []\n",
    "    start_idx = 0\n",
    "    for i in range(len(string)-1):\n",
    "        if (string[i] != string[i + 1]) | (i == len(string)-1):\n",
    "            cnt = string[start_idx : i+1].count(string[i])\n",
    "            new.append(string[i] + str(cnt))\n",
    "            start_idx = i + 1\n",
    "    return ''.join(new)\n",
    "\n",
    "if __name__ == \"__main__\":\n",
    "    result = compress(\"aabcccccaaa\")\n",
    "    print(result)"
   ]
  },
  {
   "cell_type": "markdown",
   "metadata": {},
   "source": [
    "해답 코드"
   ]
  },
  {
   "cell_type": "code",
   "execution_count": 134,
   "metadata": {},
   "outputs": [
    {
     "name": "stdout",
     "output_type": "stream",
     "text": [
      "a2b1c5a3\n"
     ]
    }
   ],
   "source": [
    "def str_compression(s):\n",
    "    count, last = 1, \"\"\n",
    "    list_aux = []\n",
    "    for i, c in enumerate(s):\n",
    "        if last == c:\n",
    "            count += 1\n",
    "        else:\n",
    "            if i != 0:\n",
    "                list_aux.append(str(count))\n",
    "            list_aux.append(c)\n",
    "            count = 1\n",
    "            last = c\n",
    "    list_aux.append(str(count))\n",
    "    return \"\".join(list_aux)\n",
    "\n",
    "\n",
    "if __name__ == \"__main__\":\n",
    "    result = str_compression(\"aabcccccaaa\")\n",
    "    print(result)"
   ]
  },
  {
   "cell_type": "markdown",
   "metadata": {},
   "source": [
    "4. 문자열 순열"
   ]
  },
  {
   "cell_type": "markdown",
   "metadata": {},
   "source": [
    "[itertools](https://docs.python.org/3/library/itertools.html)"
   ]
  },
  {
   "cell_type": "code",
   "execution_count": 135,
   "metadata": {},
   "outputs": [
    {
     "name": "stdout",
     "output_type": "stream",
     "text": [
      "['012', '021', '102', '120', '201', '210']\n",
      "['012', '021', '102', '120', '201', '210']\n"
     ]
    }
   ],
   "source": [
    "import itertools\n",
    "\n",
    "\n",
    "def perm(s):\n",
    "    if len(s) < 2:\n",
    "        return s\n",
    "    res = []\n",
    "    for i, c in enumerate(s):\n",
    "        for cc in perm(s[:i] + s[i+1:]):\n",
    "            res.append(c + cc)\n",
    "    return res\n",
    "\n",
    "\n",
    "def perm2(s):\n",
    "    res = itertools.permutations(s)\n",
    "    return [\"\".join(i) for i in res]\n",
    "\n",
    "\n",
    "if __name__ == \"__main__\":\n",
    "    val = \"012\"\n",
    "    print(perm(val))\n",
    "    print(perm2(val))"
   ]
  },
  {
   "cell_type": "code",
   "execution_count": 136,
   "metadata": {},
   "outputs": [
    {
     "name": "stdout",
     "output_type": "stream",
     "text": [
      "['a', 'ab', 'abc', 'ac', 'acb', 'b', 'ba', 'bac', 'bc', 'bca', 'c', 'ca', 'cab', 'cb', 'cba']\n"
     ]
    }
   ],
   "source": [
    "def combinations(s):\n",
    "    if len(s) < 2:\n",
    "        return s\n",
    "    res = []\n",
    "    for i, c in enumerate(s):\n",
    "        res.append(c)  # 추가된 부분\n",
    "        for j in combinations(s[:i] + s[i+1:]):\n",
    "            res.append(c + j)\n",
    "    return res\n",
    "\n",
    "\n",
    "if __name__ == \"__main__\":\n",
    "    result = combinations(\"abc\")\n",
    "    print(result)"
   ]
  },
  {
   "cell_type": "markdown",
   "metadata": {},
   "source": [
    "5. 회문"
   ]
  },
  {
   "cell_type": "markdown",
   "metadata": {},
   "source": [
    "palindrome: 앞에서 읽으나 뒤에서 읽으나 동일한 단어나 구"
   ]
  },
  {
   "cell_type": "code",
   "execution_count": 146,
   "metadata": {},
   "outputs": [
    {
     "name": "stdout",
     "output_type": "stream",
     "text": [
      "True\n",
      "True\n",
      "False\n"
     ]
    }
   ],
   "source": [
    "def is_palindrome(string):\n",
    "    new = ''.join(string.split())\n",
    "    if new[:int(len(new)/2)] == new[::-1][:int(len(new)/2)]:\n",
    "        return True\n",
    "    else:\n",
    "        return False\n",
    "\n",
    "if __name__ == \"__main__\":\n",
    "    str1 = \"다시 합창합시다\"\n",
    "    str2 = \"\"\n",
    "    str3 = \"hello\"\n",
    "    print(is_palindrome(str1))\n",
    "    print(is_palindrome(str2))\n",
    "    print(is_palindrome(str3))"
   ]
  },
  {
   "cell_type": "markdown",
   "metadata": {},
   "source": [
    "해답 코드"
   ]
  },
  {
   "cell_type": "code",
   "execution_count": 139,
   "metadata": {},
   "outputs": [
    {
     "name": "stdout",
     "output_type": "stream",
     "text": [
      "True\n",
      "True\n",
      "False\n",
      "True\n",
      "True\n",
      "False\n",
      "True\n",
      "True\n",
      "False\n"
     ]
    }
   ],
   "source": [
    "def is_palindrome(s):\n",
    "    l = s.split(\" \")\n",
    "    s2 = ''.join(l)\n",
    "    return s2 == s2[::-1]\n",
    "\n",
    "\n",
    "def is_palindrome2(s):\n",
    "    l = len(s)\n",
    "    f, b = 0, l-1\n",
    "    while f < l // 2:\n",
    "        while s[f] == \" \":\n",
    "            f += 1\n",
    "        while s[b] == \" \":\n",
    "            b -= 1\n",
    "        if s[f] != s[b]:\n",
    "            return False\n",
    "        f += 1\n",
    "        b -= 1\n",
    "    return True\n",
    "\n",
    "\n",
    "def is_palindrome3(s):\n",
    "    s = s.strip()\n",
    "    if len(s) < 2:\n",
    "        return True\n",
    "    if s[0] == s[-1]:\n",
    "        return is_palindrome(s[1:-1])\n",
    "    else:\n",
    "        return False\n",
    "\n",
    "\n",
    "if __name__ == \"__main__\":\n",
    "    str1 = \"다시 합창합시다\"\n",
    "    str2 = \"\"\n",
    "    str3 = \"hello\"\n",
    "    print(is_palindrome(str1))\n",
    "    print(is_palindrome(str2))\n",
    "    print(is_palindrome(str3))\n",
    "    print(is_palindrome2(str1))\n",
    "    print(is_palindrome2(str2))\n",
    "    print(is_palindrome2(str3))\n",
    "    print(is_palindrome3(str1))\n",
    "    print(is_palindrome3(str2))\n",
    "    print(is_palindrome3(str3))"
   ]
  }
 ],
 "metadata": {
  "kernelspec": {
   "display_name": "Python 3",
   "language": "python",
   "name": "python3"
  },
  "language_info": {
   "codemirror_mode": {
    "name": "ipython",
    "version": 3
   },
   "file_extension": ".py",
   "mimetype": "text/x-python",
   "name": "python",
   "nbconvert_exporter": "python",
   "pygments_lexer": "ipython3",
   "version": "3.7.6"
  }
 },
 "nbformat": 4,
 "nbformat_minor": 4
}
